{
  "nbformat": 4,
  "nbformat_minor": 0,
  "metadata": {
    "colab": {
      "name": "jinaai101.ipynb",
      "provenance": [],
      "collapsed_sections": [],
      "authorship_tag": "ABX9TyNc49SD3CfFJRuCAp97tRvQ",
      "include_colab_link": true
    },
    "kernelspec": {
      "name": "python3",
      "display_name": "Python 3"
    },
    "language_info": {
      "name": "python"
    }
  },
  "cells": [
    {
      "cell_type": "markdown",
      "metadata": {
        "id": "view-in-github",
        "colab_type": "text"
      },
      "source": [
        "<a href=\"https://colab.research.google.com/github/rongzhang/jinaai101/blob/main/jinaai101.ipynb\" target=\"_parent\"><img src=\"https://colab.research.google.com/assets/colab-badge.svg\" alt=\"Open In Colab\"/></a>"
      ]
    },
    {
      "cell_type": "code",
      "metadata": {
        "id": "NMXZT1ZMs5kM",
        "colab": {
          "base_uri": "https://localhost:8080/",
          "height": 790
        },
        "outputId": "4e4676a2-2e48-4b23-ccd2-121eae365b62"
      },
      "source": [
        "!pip install jina"
      ],
      "execution_count": 1,
      "outputs": [
        {
          "output_type": "stream",
          "text": [
            "Collecting jina\n",
            "\u001b[?25l  Downloading https://files.pythonhosted.org/packages/c0/c3/bcbb66650bd7e41572154ae10c20d45f1c82bb98095fbb855d5c3cd24a4e/jina-1.2.4.tar.gz (457kB)\n",
            "\u001b[K     |████████████████████████████████| 460kB 5.6MB/s \n",
            "\u001b[?25hCollecting protobuf>=3.13.0\n",
            "\u001b[?25l  Downloading https://files.pythonhosted.org/packages/7e/16/7ba9dc81212c0e3865c08dcc9170259bc4e624fda783926fb84ed609ea25/protobuf-3.17.0-cp37-cp37m-manylinux_2_5_x86_64.manylinux1_x86_64.whl (1.0MB)\n",
            "\u001b[K     |████████████████████████████████| 1.0MB 17.3MB/s \n",
            "\u001b[?25hCollecting lz4<3.1.2\n",
            "\u001b[?25l  Downloading https://files.pythonhosted.org/packages/db/15/52db5e5ac2885e7e3a09a4478d928e0435f3b060cd62b389978339696aaa/lz4-3.1.1-cp37-cp37m-manylinux2010_x86_64.whl (1.8MB)\n",
            "\u001b[K     |████████████████████████████████| 1.8MB 24.3MB/s \n",
            "\u001b[?25hCollecting pyyaml>=5.3.1\n",
            "\u001b[?25l  Downloading https://files.pythonhosted.org/packages/7a/a5/393c087efdc78091afa2af9f1378762f9821c9c1d7a22c5753fb5ac5f97a/PyYAML-5.4.1-cp37-cp37m-manylinux1_x86_64.whl (636kB)\n",
            "\u001b[K     |████████████████████████████████| 645kB 46.5MB/s \n",
            "\u001b[?25hRequirement already satisfied: numpy in /usr/local/lib/python3.7/dist-packages (from jina) (1.19.5)\n",
            "Requirement already satisfied: tornado>=5.1.0 in /usr/local/lib/python3.7/dist-packages (from jina) (5.1.1)\n",
            "Requirement already satisfied: pyzmq>=17.1.0 in /usr/local/lib/python3.7/dist-packages (from jina) (22.0.3)\n",
            "Collecting grpcio>=1.33.1\n",
            "\u001b[?25l  Downloading https://files.pythonhosted.org/packages/31/d8/1bfe90cc49c166dd2ec1be46fa4830c254ce702004a110830c74ec1df0c0/grpcio-1.37.1-cp37-cp37m-manylinux2014_x86_64.whl (4.2MB)\n",
            "\u001b[K     |████████████████████████████████| 4.2MB 44.0MB/s \n",
            "\u001b[?25hCollecting uvloop\n",
            "\u001b[?25l  Downloading https://files.pythonhosted.org/packages/87/05/805df4850d9659efd69d00076269ae6adcb0e151d1922cff822ead2c432a/uvloop-0.15.2-cp37-cp37m-manylinux2010_x86_64.whl (3.8MB)\n",
            "\u001b[K     |████████████████████████████████| 3.8MB 36.9MB/s \n",
            "\u001b[?25hRequirement already satisfied: six>=1.9 in /usr/local/lib/python3.7/dist-packages (from protobuf>=3.13.0->jina) (1.15.0)\n",
            "Building wheels for collected packages: jina\n",
            "  Building wheel for jina (setup.py) ... \u001b[?25l\u001b[?25hdone\n",
            "  Created wheel for jina: filename=jina-1.2.4-cp37-none-any.whl size=660498 sha256=5f7a64dc40b3bb34ae115146d0a6ccaa8a677e382a776a24a2570d97564b543c\n",
            "  Stored in directory: /root/.cache/pip/wheels/50/01/ec/48aa783aec4a657215b2550d8ca5da16d3b8155691ed36e5bb\n",
            "Successfully built jina\n",
            "\u001b[31mERROR: tensorflow 2.4.1 has requirement grpcio~=1.32.0, but you'll have grpcio 1.37.1 which is incompatible.\u001b[0m\n",
            "Installing collected packages: protobuf, lz4, pyyaml, grpcio, uvloop, jina\n",
            "  Found existing installation: protobuf 3.12.4\n",
            "    Uninstalling protobuf-3.12.4:\n",
            "      Successfully uninstalled protobuf-3.12.4\n",
            "  Found existing installation: PyYAML 3.13\n",
            "    Uninstalling PyYAML-3.13:\n",
            "      Successfully uninstalled PyYAML-3.13\n",
            "  Found existing installation: grpcio 1.32.0\n",
            "    Uninstalling grpcio-1.32.0:\n",
            "      Successfully uninstalled grpcio-1.32.0\n",
            "Successfully installed grpcio-1.37.1 jina-1.2.4 lz4-3.1.1 protobuf-3.17.0 pyyaml-5.4.1 uvloop-0.15.2\n"
          ],
          "name": "stdout"
        },
        {
          "output_type": "display_data",
          "data": {
            "application/vnd.colab-display-data+json": {
              "pip_warning": {
                "packages": [
                  "google"
                ]
              }
            }
          },
          "metadata": {
            "tags": []
          }
        }
      ]
    },
    {
      "cell_type": "code",
      "metadata": {
        "id": "R_Vk9a_QxPzR"
      },
      "source": [
        "from jina import Flow"
      ],
      "execution_count": 3,
      "outputs": []
    },
    {
      "cell_type": "code",
      "metadata": {
        "id": "MbmZfVBFxUHS"
      },
      "source": [
        "my_fluffy_flow = Flow().add(name='encoder').add(name='indexer')"
      ],
      "execution_count": 5,
      "outputs": []
    },
    {
      "cell_type": "code",
      "metadata": {
        "colab": {
          "base_uri": "https://localhost:8080/",
          "height": 95
        },
        "id": "Ybz94b6hxqFF",
        "outputId": "e48bbb14-e99b-4c7c-b7ce-ff73dac5d0bd"
      },
      "source": [
        "my_fluffy_flow"
      ],
      "execution_count": 6,
      "outputs": [
        {
          "output_type": "display_data",
          "data": {
            "text/html": [
              "<img src=\"https://mermaid.ink/svg/JSV7aW5pdDogeyd0aGVtZSc6ICdiYXNlJywgJ3RoZW1lVmFyaWFibGVzJzogeyAncHJpbWFyeUNvbG9yJzogJyMzMkM4Q0QnLCAnZWRnZUxhYmVsQmFja2dyb3VuZCc6JyNmZmYnLCAnY2x1c3RlckJrZyc6ICcjRkZDQzY2J319fSUlCmdyYXBoIExSCmdhdGV3YXkoZ2F0ZXdheSk6OjpHQVRFV0FZIC0tPiB8UFVTSC1QVUxMfGVuY29kZXIoZW5jb2Rlcik6OjpQT0QKZW5jb2RlcihlbmNvZGVyKTo6OlBPRCAtLT4gfFBVU0gtUFVMTHxpbmRleGVyKGluZGV4ZXIpOjo6UE9ECmluZGV4ZXIoaW5kZXhlcik6OjpQT0QgLS0+IHxQVVNILVBVTEx8Z2F0ZXdheV9FTkQoZ2F0ZXdheSk6OjpHQVRFV0FZCmNsYXNzRGVmIFBPRCBmaWxsOiMzMkM4Q0Qsc3Ryb2tlOiMwMDk5OTkKY2xhc3NEZWYgSU5TUEVDVCBmaWxsOiNmZjY2NjYsY29sb3I6I2ZmZgpjbGFzc0RlZiBKT0lOX0lOU1BFQ1QgZmlsbDojZmY2NjY2LGNvbG9yOiNmZmYKY2xhc3NEZWYgR0FURVdBWSBmaWxsOiM2RTcyNzgsY29sb3I6I2ZmZgpjbGFzc0RlZiBJTlNQRUNUX0FVWF9QQVNTIGZpbGw6I2ZmZixjb2xvcjojMDAwLHN0cm9rZS1kYXNoYXJyYXk6IDUgNQpjbGFzc0RlZiBwZWEgZmlsbDojMDA5OTk5LHN0cm9rZTojMUU2RTcz\"/>"
            ],
            "text/plain": [
              "<IPython.core.display.Image object>"
            ]
          },
          "metadata": {
            "tags": []
          }
        }
      ]
    },
    {
      "cell_type": "code",
      "metadata": {
        "colab": {
          "base_uri": "https://localhost:8080/"
        },
        "id": "k700ALaRxu9t",
        "outputId": "d1c65c5e-33c8-4895-ecf0-8f8655fa9a65"
      },
      "source": [
        "with my_fluffy_flow:\n",
        "  my_fluffy_flow.index(['who is the prettiest cat'])"
      ],
      "execution_count": 7,
      "outputs": [
        {
          "output_type": "stream",
          "text": [
            "        encoder@194[I]:starting jina.peapods.runtimes.zmq.zed.ZEDRuntime...\n",
            "        encoder@194[I]:input \u001b[33mtcp://0.0.0.0:37311\u001b[0m (PULL_BIND) output \u001b[33mtcp://0.0.0.0:55595\u001b[0m (PUSH_CONNECT) control over \u001b[33mtcp://0.0.0.0:42811\u001b[0m (PAIR_BIND)\n",
            "        indexer@201[I]:starting jina.peapods.runtimes.zmq.zed.ZEDRuntime...\n",
            "        indexer@201[I]:input \u001b[33mtcp://0.0.0.0:55595\u001b[0m (PULL_BIND) output \u001b[33mtcp://0.0.0.0:55465\u001b[0m (PUSH_BIND) control over \u001b[33mtcp://0.0.0.0:38217\u001b[0m (PAIR_BIND)\n",
            "        gateway@204[I]:starting jina.peapods.runtimes.asyncio.grpc.GRPCRuntime...\n",
            "   BaseExecutor@194[S]:\u001b[32msuccessfully built BaseExecutor from a yaml config\u001b[0m\n",
            "        encoder@123[S]:\u001b[32mready and listening\u001b[0m\n",
            "        gateway@204[I]:input \u001b[33mtcp://0.0.0.0:55465\u001b[0m (PULL_CONNECT) output \u001b[33mtcp://0.0.0.0:37311\u001b[0m (PUSH_CONNECT) control over \u001b[33mipc:///tmp/tmpeqn_mwxj\u001b[0m (PAIR_BIND)\n",
            "        gateway@204[S]:\u001b[32mGRPCRuntime is listening at: 0.0.0.0:52571\u001b[0m\n",
            "   BaseExecutor@201[S]:\u001b[32msuccessfully built BaseExecutor from a yaml config\u001b[0m\n",
            "        indexer@123[S]:\u001b[32mready and listening\u001b[0m\n",
            "        gateway@123[S]:\u001b[32mready and listening\u001b[0m\n",
            "           Flow@123[I]:3 Pods (i.e. 3 Peas) are running in this Flow\n",
            "           Flow@123[S]:\u001b[32m🎉 Flow is ready to use, accepting \u001b[1mgRPC request\u001b[0m\u001b[0m\n",
            "           Flow@123[I]:\n",
            "\t🖥️ Local access:\t\u001b[4m\u001b[36mtcp://0.0.0.0:52571\u001b[0m\n",
            "\t🔒 Private network:\t\u001b[4m\u001b[36mtcp://172.28.0.2:52571\u001b[0m\n",
            "\t🌐 Public address:\t\u001b[4m\u001b[36mtcp://35.221.250.77:52571\u001b[0m\n",
            "         Client@123[S]:\u001b[32mconnected to the gateway at 0.0.0.0:52571!\u001b[0m\n",
            "\u001b[36mindex\u001b[0m |\u001b[32m█\u001b[0m                   | 📃      0 ⏱️ 0.0s 🐎 0.0/s      0   requestsindex ...\t        gateway@204[I]:prefetching 50 requests...\n",
            "        gateway@204[W]:\u001b[40m\u001b[33mif this takes too long, you may want to take smaller \"--prefetch\" or ask client to reduce \"--request-size\"\u001b[0m\n",
            "        gateway@204[I]:prefetching 50 requests takes 0 seconds (0.03s)\n",
            "        encoder@194[I]:recv IndexRequest  from gateway\u001b[32m▸\u001b[0mencoder/ZEDRuntime\u001b[32m▸\u001b[0m⚐\n",
            "        encoder@194[I]:#sent: 0 #recv: 1 sent_size: 0 Bytes recv_size: 397 Bytes\n",
            "        indexer@201[I]:recv IndexRequest  from gateway\u001b[32m▸\u001b[0mencoder/ZEDRuntime\u001b[32m▸\u001b[0mindexer/ZEDRuntime\u001b[32m▸\u001b[0m⚐\n",
            "        indexer@201[I]:#sent: 0 #recv: 1 sent_size: 0 Bytes recv_size: 485 Bytes\n",
            "\u001b[36mindex\u001b[0m |\u001b[32m█\u001b[0m                   | 📃    100 ⏱️ 0.1s 🐎 1396.4/s      1   requestsindex takes 0 seconds (0.07s)\u001b[0m\n",
            "\t\u001b[32m✅ done in ⏱ 0 seconds 🐎 1322.0/s\u001b[0m\n",
            "        gateway@204[I]:#sent: 1 #recv: 1 sent_size: 466 Bytes recv_size: 573 Bytes\n",
            "        gateway@123[S]:\u001b[32mterminated\u001b[0m\n",
            "        indexer@201[I]:recv ControlRequest  from ctl\u001b[32m▸\u001b[0mindexer/ZEDRuntime\u001b[32m▸\u001b[0m⚐\n",
            "        indexer@201[I]:#sent: 2 #recv: 2 sent_size: 894 Bytes recv_size: 628 Bytes\n",
            "        indexer@201[I]:no update since 2021-05-17 05:23:22, will not save. If you really want to save it, call \"touch()\" before \"save()\" to force saving\n",
            "        indexer@123[S]:\u001b[32mterminated\u001b[0m\n",
            "        encoder@194[I]:recv ControlRequest  from ctl\u001b[32m▸\u001b[0mencoder/ZEDRuntime\u001b[32m▸\u001b[0m⚐\n",
            "        encoder@194[I]:#sent: 2 #recv: 2 sent_size: 804 Bytes recv_size: 539 Bytes\n",
            "        encoder@194[I]:no update since 2021-05-17 05:23:22, will not save. If you really want to save it, call \"touch()\" before \"save()\" to force saving\n",
            "        encoder@123[S]:\u001b[32mterminated\u001b[0m\n",
            "           Flow@123[S]:\u001b[32mflow is closed and all resources are released, current build level is 0\u001b[0m\n"
          ],
          "name": "stdout"
        }
      ]
    },
    {
      "cell_type": "code",
      "metadata": {
        "id": "fNI4-_nwzU1r"
      },
      "source": [
        ""
      ],
      "execution_count": null,
      "outputs": []
    }
  ]
}